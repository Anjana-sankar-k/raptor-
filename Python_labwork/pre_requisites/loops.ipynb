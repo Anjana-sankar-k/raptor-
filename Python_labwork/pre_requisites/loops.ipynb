{
  "nbformat": 4,
  "nbformat_minor": 0,
  "metadata": {
    "colab": {
      "provenance": []
    },
    "kernelspec": {
      "name": "python3",
      "display_name": "Python 3"
    },
    "language_info": {
      "name": "python"
    }
  },
  "cells": [
    {
      "cell_type": "code",
      "execution_count": null,
      "metadata": {
        "colab": {
          "base_uri": "https://localhost:8080/"
        },
        "id": "VYtobzBsKsjZ",
        "outputId": "8c456b78-98a6-4c86-b7ea-fca6f5a0cd5e"
      },
      "outputs": [
        {
          "output_type": "stream",
          "name": "stdout",
          "text": [
            "What's the value of n? 4\n",
            "1\n",
            "3\n",
            "5\n",
            "7\n"
          ]
        }
      ],
      "source": [
        "#PROGRAM 1: find the first n odd numbers\n",
        "\n",
        "n = int(input(\"What's the value of n? \"))\n",
        "x = 1\n",
        "print(x)\n",
        "for i in range(n-1):\n",
        "    x = x + 2\n",
        "    print(x)\n",
        "\n",
        "\n"
      ]
    },
    {
      "cell_type": "code",
      "source": [
        "#PROGRAM 2: check whether a number is palindrome or not.\n",
        "\n",
        "n=int(input(\"Enter the number: \"))\n",
        "temp=n\n",
        "reverse=0\n",
        "while (n>0):\n",
        "  last=(n%10)\n",
        "  reverse=reverse*10+last\n",
        "  n=n//10\n",
        "if(temp==reverse):\n",
        "  statement=\"the number is a palindrome\"\n",
        "else:\n",
        "  statement=\"the number is not a palindrome\"\n",
        "print(statement)\n"
      ],
      "metadata": {
        "id": "09s2O7c6RUEy",
        "colab": {
          "base_uri": "https://localhost:8080/"
        },
        "outputId": "84778d03-2db2-4946-cf03-9410bae608dd"
      },
      "execution_count": null,
      "outputs": [
        {
          "output_type": "stream",
          "name": "stdout",
          "text": [
            "Enter the number: 101\n",
            "the number is a palindrome\n"
          ]
        }
      ]
    },
    {
      "cell_type": "code",
      "source": [
        "#PROGRAM 3: convert a binary to its decimel equivalent\n",
        "\n",
        "b=int(input(\"Enter the binary number:\"))\n",
        "c=int(input(\"Enter the number of digits of binary numbers: \"))\n",
        "n=0\n",
        "a=0\n",
        "while (b>0):\n",
        "  last= b%10\n",
        "  a=a+last*(2**n)\n",
        "  n=n+1\n",
        "  b=b//10\n",
        "if (n==c):\n",
        "  print(\"the number is\",a )"
      ],
      "metadata": {
        "colab": {
          "base_uri": "https://localhost:8080/"
        },
        "id": "DTgcCKaDZmtP",
        "outputId": "90722169-0ce7-4d9a-b56f-8a452b6354c2"
      },
      "execution_count": null,
      "outputs": [
        {
          "output_type": "stream",
          "name": "stdout",
          "text": [
            "Enter the binary number:101\n",
            "Enter the number of digits of binary numbers: 3\n",
            "the number is 5\n"
          ]
        }
      ]
    },
    {
      "cell_type": "code",
      "source": [
        "#PROGRAM 4: find the sum of first n numbers\n",
        "\n",
        "n = int(input(\"What's the limit? \"))\n",
        "sum = 0\n",
        "\n",
        "for i in range(1, n + 1):\n",
        "    sum = sum + i\n",
        "\n",
        "print(\"The sum of the first\", n, \"numbers is\", sum)\n"
      ],
      "metadata": {
        "colab": {
          "base_uri": "https://localhost:8080/"
        },
        "id": "VIekfCy2jRK5",
        "outputId": "5f1e8eb3-b4d1-4b44-e21c-ebcb95b05513"
      },
      "execution_count": null,
      "outputs": [
        {
          "output_type": "stream",
          "name": "stdout",
          "text": [
            "What's the limit? 4\n",
            "The sum of the first 4 numbers is 10\n"
          ]
        }
      ]
    },
    {
      "cell_type": "code",
      "source": [
        "#PROGRAM 5: find reverse of a number\n",
        "n=int(input(\"Enter the number: \"))\n",
        "reverse=0\n",
        "while (n>0):\n",
        "  last=(n%10)\n",
        "  reverse=reverse*10+last\n",
        "  n=n//10\n",
        "print(\"the reverse of the number is \",reverse)"
      ],
      "metadata": {
        "colab": {
          "base_uri": "https://localhost:8080/"
        },
        "id": "ov66OXT6jZu7",
        "outputId": "0fc91888-1cbb-4350-d200-d22784844b46"
      },
      "execution_count": null,
      "outputs": [
        {
          "output_type": "stream",
          "name": "stdout",
          "text": [
            "Enter the number: 32\n",
            "the reverse of the number is  23\n"
          ]
        }
      ]
    },
    {
      "cell_type": "code",
      "source": [
        "#PROGRAM 6: find the factorial of a number\n",
        "n=int(input(\"Enter the limit: \"))\n",
        "x=1\n",
        "i=1\n",
        "\n",
        "while i<=n:\n",
        "    x=x*i\n",
        "    i=i+1\n",
        "\n",
        "if n==i-1:\n",
        "    print(n,\"! =\",x)"
      ],
      "metadata": {
        "colab": {
          "base_uri": "https://localhost:8080/"
        },
        "id": "ceW5BPaykbRm",
        "outputId": "63cc7c5d-48cf-44fd-b3a6-695639791512"
      },
      "execution_count": null,
      "outputs": [
        {
          "output_type": "stream",
          "name": "stdout",
          "text": [
            "Enter the limit: 5\n",
            "5 ! = 120\n"
          ]
        }
      ]
    },
    {
      "cell_type": "code",
      "source": [
        "#PROGRAM 7: CHECK WHETHER THE NUMBER IS AUTOMORPHIC OR NOT\n",
        "\n",
        "n=int(input(\"Enter a number: \"))\n",
        "sqr=n**2\n",
        "b=10**(len(str(n)))\n",
        "if(sqr%b==n):\n",
        "  print(n,\"is automporhic.\")\n",
        "else:\n",
        "  print(n,\"is not automorphic.\")"
      ],
      "metadata": {
        "colab": {
          "base_uri": "https://localhost:8080/"
        },
        "id": "krF-zEGCbfxg",
        "outputId": "81585fe0-2fdc-4fd5-ac78-0446abb84b88"
      },
      "execution_count": 3,
      "outputs": [
        {
          "output_type": "stream",
          "name": "stdout",
          "text": [
            "Enter a number: 123\n",
            "123 is not automorphic.\n"
          ]
        }
      ]
    },
    {
      "cell_type": "code",
      "source": [
        "#PROGRAM 8: SUM OF FACTORS OF A NUMBER\n",
        "\n",
        "n=int(input(\"Enter the number: \"))\n",
        "sum=0\n",
        "i=1\n",
        "while(i<n):\n",
        "  if (n%i==0):\n",
        "    sum=sum+i\n",
        "  i+=1\n",
        "sum+=n\n",
        "print(\"The sum of factors of\", n, \"is\", sum)"
      ],
      "metadata": {
        "colab": {
          "base_uri": "https://localhost:8080/"
        },
        "id": "9VVre-HqdC3z",
        "outputId": "99823115-00b1-4a79-bf09-ac72ff68722a"
      },
      "execution_count": 4,
      "outputs": [
        {
          "output_type": "stream",
          "name": "stdout",
          "text": [
            "Enter the number: 45\n",
            "The sum of factors of 45 is 78\n"
          ]
        }
      ]
    },
    {
      "cell_type": "code",
      "source": [
        "#PROGRAM 9: COMPUTE GCD OF TWO NUMBERS\n",
        "\n",
        "n1 = int(input(\"Enter first number: \"))\n",
        "n2 = int(input(\"Enter second number: \"))\n",
        "i = 1\n",
        "gcd = 1\n",
        "\n",
        "if n1 > n2:\n",
        "    great = n1\n",
        "    small = n2\n",
        "else:\n",
        "    great = n2\n",
        "    small = n1\n",
        "\n",
        "while i <= n1 and i <= n2:\n",
        "    if great % i == 0 and small % i == 0:\n",
        "        gcd = i\n",
        "    i += 1\n",
        "\n",
        "print(\"gcd of\", n1, \"and\", n2, \"is\", gcd)\n"
      ],
      "metadata": {
        "colab": {
          "base_uri": "https://localhost:8080/"
        },
        "id": "rnNW2Xu0Px2d",
        "outputId": "14ed8457-3ca0-486b-d6fa-f06003a34aa6"
      },
      "execution_count": 2,
      "outputs": [
        {
          "output_type": "stream",
          "name": "stdout",
          "text": [
            "Enter first number: 2\n",
            "Enter second number: 6\n",
            "gcd of 2 and 6 is 2\n"
          ]
        }
      ]
    },
    {
      "cell_type": "code",
      "source": [
        "#PROGRAM 10: CHECK WHETHER A NUMBER IS ARMSTRONG OR NOT\n",
        "\n",
        "n=int(input(\"Enter a number below 1000: \"))\n",
        "count=1\n",
        "sum=0\n",
        "std=n\n",
        "while(std!=0):\n",
        "  digit=std%10\n",
        "  sum+=digit**3\n",
        "  std=std//10\n",
        "if (sum==n):\n",
        "  print(n,\"is an Armstrong number.\")\n",
        "else:\n",
        "  print(n,\"is not an Armstrong number.\")"
      ],
      "metadata": {
        "colab": {
          "base_uri": "https://localhost:8080/"
        },
        "id": "5_IbV-VPl2jK",
        "outputId": "4050bc48-410d-4662-8558-790f15a5f662"
      },
      "execution_count": 4,
      "outputs": [
        {
          "output_type": "stream",
          "name": "stdout",
          "text": [
            "Enter a number below 1000: 123\n",
            "123 is not an Armstrong number.\n"
          ]
        }
      ]
    },
    {
      "cell_type": "code",
      "source": [
        "#PROGRAM 11: SQUARES OF NATURAL NUMERS BETWEEN TWO NUMBERS\n",
        "\n",
        "n1=int(input(\"Enter the first number: \"))\n",
        "n2=int(input(\"Enter the second number: \"))\n",
        "print(\"The squares of numbers from\",n1,\"to\",n2,\"are: \")\n",
        "for i in range(n1,n2+1):\n",
        "  print(n1**2)\n",
        "  n1+=1"
      ],
      "metadata": {
        "colab": {
          "base_uri": "https://localhost:8080/"
        },
        "id": "0vpB5wisl8kM",
        "outputId": "ef8ba605-ed61-40c1-f5f1-438f5fca5290"
      },
      "execution_count": 5,
      "outputs": [
        {
          "output_type": "stream",
          "name": "stdout",
          "text": [
            "Enter the first number: 2\n",
            "Enter the second number: 7\n",
            "The squares of numbers from 2 to 7 are: \n",
            "4\n",
            "9\n",
            "16\n",
            "25\n",
            "36\n",
            "49\n"
          ]
        }
      ]
    },
    {
      "cell_type": "code",
      "source": [
        "#PROGRAM 12: COMPUTE SUM OF SERIES->1-4+9-16..\n",
        "\n",
        "n=int(input(\"Enter number of elements you want in the series: \"))\n",
        "sum=0\n",
        "for x in range(1,n+1):\n",
        "  sq=x*x\n",
        "  if(x%2==0):\n",
        "    sum=sum-sq\n",
        "  else:\n",
        "    sum=sum+sq\n",
        "  x+=1\n",
        "print(\"The sum of the series is\",sum)"
      ],
      "metadata": {
        "colab": {
          "base_uri": "https://localhost:8080/"
        },
        "id": "r6apJUQEmHxR",
        "outputId": "2b7fdbd5-bfc1-451a-ecbd-4c14340fca40"
      },
      "execution_count": 6,
      "outputs": [
        {
          "output_type": "stream",
          "name": "stdout",
          "text": [
            "Enter number of elements you want in the series: 6\n",
            "The sum of the series is -21\n"
          ]
        }
      ]
    },
    {
      "cell_type": "code",
      "source": [
        "#PROGRAM 13: COMPUTE X^N\n",
        "\n",
        "x=int(input(\"Enter base number:\"))\n",
        "n=int(input(\"Enter the power: \"))\n",
        "num=x\n",
        "for i in range(1,n):\n",
        "  num=num*x\n",
        "\n",
        "print(x,\"raised to power\", n, \"is\", num)"
      ],
      "metadata": {
        "colab": {
          "base_uri": "https://localhost:8080/"
        },
        "id": "JPGbjI-gmP_t",
        "outputId": "8a3e09e1-c5a0-448e-dc2d-4b5ec78826c2"
      },
      "execution_count": 8,
      "outputs": [
        {
          "output_type": "stream",
          "name": "stdout",
          "text": [
            "Enter base number:5\n",
            "Enter the power: 2\n",
            "5 raised to power 2 is 25\n"
          ]
        }
      ]
    },
    {
      "cell_type": "code",
      "source": [
        "#PROGRAM 14: FIBONACCI\n",
        "\n",
        "n=int(input(\"Enter number of elements of Fibonacci series to be printed: \"))\n",
        "first_num=0\n",
        "second_num=1\n",
        "print(\"The Fibonacci series upto\",n,\"elements is: \")\n",
        "print(first_num, second_num,end=\" \")\n",
        "for i in range(1,n):\n",
        "  sum=first_num+second_num\n",
        "  first_num=second_num\n",
        "  second_num=sum\n",
        "  print(sum,end=\" \")"
      ],
      "metadata": {
        "colab": {
          "base_uri": "https://localhost:8080/"
        },
        "id": "3HE-MOOVmRcD",
        "outputId": "451b9889-8e48-4db7-e1fb-84cd3bc35e3d"
      },
      "execution_count": 9,
      "outputs": [
        {
          "output_type": "stream",
          "name": "stdout",
          "text": [
            "Enter number of elements of Fibonacci series to be printed: 6\n",
            "The Fibonacci series upto 6 elements is: \n",
            "0 1 1 2 3 5 8 "
          ]
        }
      ]
    }
  ]
}