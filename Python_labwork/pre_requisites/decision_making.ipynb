{
  "nbformat": 4,
  "nbformat_minor": 0,
  "metadata": {
    "colab": {
      "provenance": []
    },
    "kernelspec": {
      "name": "python3",
      "display_name": "Python 3"
    },
    "language_info": {
      "name": "python"
    }
  },
  "cells": [
    {
      "cell_type": "code",
      "execution_count": null,
      "metadata": {
        "colab": {
          "base_uri": "https://localhost:8080/"
        },
        "id": "PleWTtLfRMlC",
        "outputId": "e5db4cd1-aa32-4df7-a475-27d0e8b68542"
      },
      "outputs": [
        {
          "output_type": "stream",
          "name": "stdout",
          "text": [
            "Enter the first number: 6\n",
            "Enter the second number: 7\n",
            "7 is greater than 6\n"
          ]
        }
      ],
      "source": [
        "#PROGRAM 1: FIND THE LARGEST AMONG TWO NUMBERS.\n",
        "\n",
        "x=int(input(\"Enter the first number: \"))\n",
        "y=int(input(\"Enter the second number: \"))\n",
        "if x>y:\n",
        "  statement= \"%i is greater than %i\" %(x,y)\n",
        "if x<y:\n",
        "  statement = \"%i is greater than %i\" %(y,x)\n",
        "else:\n",
        "  statement = \"the numbers are equal\"\n",
        "print(statement)\n",
        "\n",
        "\n"
      ]
    },
    {
      "cell_type": "code",
      "source": [
        "#PROGRAM 2: FIND IF THE NUMBER IS ODD OR EVEN\n",
        "\n",
        "x=int(input(\"Enter the number: \"))\n",
        "if x%2==0:\n",
        "  statement=\"%i is an even number\" %x\n",
        "else:\n",
        "  statement=\"%i is an odd number\" %x\n",
        "print(statement)\n"
      ],
      "metadata": {
        "colab": {
          "base_uri": "https://localhost:8080/"
        },
        "id": "6PqCOOvyVK4c",
        "outputId": "cedd5209-4a06-4552-d788-02c87c519994"
      },
      "execution_count": null,
      "outputs": [
        {
          "output_type": "stream",
          "name": "stdout",
          "text": [
            "Enter the number: 5\n",
            "5 is an odd number\n"
          ]
        }
      ]
    },
    {
      "cell_type": "code",
      "source": [
        "#PROGRAM 3: CHECK IF A NUMBER IS POSITIVE, NEGATIVE OR ZERO.\n",
        "\n",
        "x=int(input(\"Enter the number: \"))\n",
        "if x>0:\n",
        "  statement=\"%i is a positive number\" %x\n",
        "if x<0:\n",
        "  statement=\"%i is a negative number\" %x\n",
        "if x==0:\n",
        "  statement=\"the number is 0\"\n",
        "print(statement)\n"
      ],
      "metadata": {
        "colab": {
          "base_uri": "https://localhost:8080/"
        },
        "id": "Rq5zGmRIV5Pk",
        "outputId": "3760a6ad-6c58-4ea9-89e0-0e82e77e7732"
      },
      "execution_count": null,
      "outputs": [
        {
          "output_type": "stream",
          "name": "stdout",
          "text": [
            "Enter the number: 89\n",
            "89 is a positive number\n"
          ]
        }
      ]
    },
    {
      "cell_type": "code",
      "source": [
        "#PROGRAM 4: CHECK IF THE NUMBER IS TWO-DIGIT OR NOT\n",
        "\n",
        "x=int(input(\"Enter a number: \"))\n",
        "if x>9 and x<100:\n",
        "  statement=\"%i is a two digit number\" %x\n",
        "else:\n",
        "  statement=\"%i is not a two digit number\" %x\n",
        "print(statement)\n"
      ],
      "metadata": {
        "colab": {
          "base_uri": "https://localhost:8080/"
        },
        "id": "AvSJBaQzXw10",
        "outputId": "d9cbecfe-d6f1-4a01-e3c4-1602b7a86b5f"
      },
      "execution_count": null,
      "outputs": [
        {
          "output_type": "stream",
          "name": "stdout",
          "text": [
            "Enter a number: 79890\n",
            "79890 is not a two digit number\n"
          ]
        }
      ]
    },
    {
      "cell_type": "code",
      "source": [
        "#PROGRAM 5: FIND THE NATURE OF SOLUTION OF A QUADRATIC EQUATION.\n",
        "\n",
        "a=int(input(\"Enter the coefficient of x^2: \"))\n",
        "b=int(input(\"Enter the coefficient of x: \"))\n",
        "c=int(input(\"Enter the constant term: \"))\n",
        "d=(b**2)-(4*a*c)\n",
        "if d==0:\n",
        "  print(\"the roots are equal\")\n",
        "elif d>0:\n",
        "  print(\"The roots are unequal and real\")\n",
        "else:\n",
        "  print(\"The roots are unequal and imaginary\")"
      ],
      "metadata": {
        "colab": {
          "base_uri": "https://localhost:8080/"
        },
        "id": "uWubx45tYcZ4",
        "outputId": "56715496-982e-4a55-f870-a47c586b2adf"
      },
      "execution_count": null,
      "outputs": [
        {
          "output_type": "stream",
          "name": "stdout",
          "text": [
            "Enter the coefficient of x^2: 6\n",
            "Enter the coefficient of x: 5\n",
            "Enter the constant term: 7\n",
            "The roots are unequal and imaginary\n"
          ]
        }
      ]
    },
    {
      "cell_type": "code",
      "source": [
        "#PROGRAM 6:FIND THE SMALLEST OF THREE NUMBERS\n",
        "\n",
        "a=int(input(\"Enter the first number: \"))\n",
        "b=int(input(\"Enter the second number: \"))\n",
        "c=int(input(\"Enter the third number: \"))\n",
        "if a<b and a<c:\n",
        "  statement=\"%i is the smallest number\" %a\n",
        "elif b<a and b<c:\n",
        "  statement=\"%i is the smallest number\" %b\n",
        "else:\n",
        "    statement=\"%i is the smallest number\" %c\n",
        "print(statement)\n",
        "\n",
        "\n"
      ],
      "metadata": {
        "colab": {
          "base_uri": "https://localhost:8080/"
        },
        "id": "a91n8X4zZkHn",
        "outputId": "d4ba3f4d-bebd-460e-f2f6-f29bc2404d43"
      },
      "execution_count": null,
      "outputs": [
        {
          "output_type": "stream",
          "name": "stdout",
          "text": [
            "Enter the first number: 3\n",
            "Enter the second number: 4\n",
            "Enter the third number: 5\n",
            "3 is the smallest number\n"
          ]
        }
      ]
    },
    {
      "cell_type": "code",
      "source": [
        "#PROGRAM 7: FIND THE SMALLEST NUMBER IN A TWO DIGIT NUMBER\n",
        "\n",
        "x=int(input(\"Enter the two-digit number: \"))\n",
        "n1=int(x/10)\n",
        "n2=int(x%10)\n",
        "if n1>n2:\n",
        "  statement=\"%i is the smallest number\" %n2\n",
        "elif n1<n2:\n",
        "  statement=\"%i is the smallest number\" %n1\n",
        "else:\n",
        "  statement=\"the digits are equal\"\n",
        "print(statement)"
      ],
      "metadata": {
        "colab": {
          "base_uri": "https://localhost:8080/"
        },
        "id": "zgSnUM2EawrI",
        "outputId": "bba53dd2-e717-48a6-d05d-7c42b75fb6e7"
      },
      "execution_count": null,
      "outputs": [
        {
          "output_type": "stream",
          "name": "stdout",
          "text": [
            "Enter the two-digit number: 78\n",
            "7 is the smallest number\n"
          ]
        }
      ]
    },
    {
      "cell_type": "code",
      "source": [
        "#PROGRAM 8: CHECK IF THE NUMBER IS DIVISIBLE BY THE OTHER\n",
        "\n",
        "a=int(input(\"Enter the first number: \"))\n",
        "b=int(input(\"Enter the second number: \"))\n",
        "if a>b:\n",
        "  if a%b==0:\n",
        "    statement=\"%i is divisible by %i\" %(a,b)\n",
        "  else:\n",
        "    statement=\"%i is not divisible by %i\" %(a,b)\n",
        "elif b>a :\n",
        "  if b%a==0:\n",
        "    statement=\"%i is divisible by %i\" %(b,a)\n",
        "  else:\n",
        "    statement=\"%i is not divisible by %i\" %(b,a)\n",
        "else:\n",
        "  statement=\"%i is divisible by %i\" %(a,b)\n",
        "print(statement)"
      ],
      "metadata": {
        "colab": {
          "base_uri": "https://localhost:8080/"
        },
        "id": "NH1_97xebv1D",
        "outputId": "57dbaed7-c7b7-4a44-ec79-e02a8615b581"
      },
      "execution_count": null,
      "outputs": [
        {
          "output_type": "stream",
          "name": "stdout",
          "text": [
            "Enter the first number: 8\n",
            "Enter the second number: 3\n",
            "8 is not divisible by 3\n"
          ]
        }
      ]
    },
    {
      "cell_type": "code",
      "source": [
        "#PROGRAM 9: FIND THE DISTANCE BETWEEN TWO POINTS\n",
        "\n",
        "x=int(input(\"Enter the first point: \"))\n",
        "y=int(input(\"Enter the second point: \"))\n",
        "if x>y:\n",
        "  z= int(x-y)\n",
        "  statement=\"%i is the distance between the two points\" %z\n",
        "elif x==y:\n",
        "  z=0\n",
        "  statement=\"the distance between the points is 0\"\n",
        "else :\n",
        "  z= int(y-x)\n",
        "  statement= \"%i is the distance between the points\" %z\n",
        "print(statement)\n",
        "\n"
      ],
      "metadata": {
        "id": "aq2HSAogeBy4",
        "colab": {
          "base_uri": "https://localhost:8080/"
        },
        "outputId": "c6eae2a3-9723-459d-dee1-35474dd81d65"
      },
      "execution_count": 4,
      "outputs": [
        {
          "output_type": "stream",
          "name": "stdout",
          "text": [
            "Enter the first point: 6\n",
            "Enter the second point: 8\n",
            "2 is the distance between the points\n"
          ]
        }
      ]
    },
    {
      "cell_type": "code",
      "source": [
        "#PROGRAM 10: FIND IF THE YEAR IS LEAP YEAR OR NOT\n",
        "\n",
        "y=int(input(\"Enter the year: \"))\n",
        "if y%100==0:\n",
        "  if y%400==0:\n",
        "    statement=\"%i is a leap year\" %y\n",
        "  else:\n",
        "    statement=\"%i is not a leap year\" %y\n",
        "else:\n",
        "  if y%4==0:\n",
        "    statement=\"%i is a leap year\" %y\n",
        "  else:\n",
        "    statement=\"%i is not a leap year\" %y\n",
        "print(statement)\n"
      ],
      "metadata": {
        "colab": {
          "base_uri": "https://localhost:8080/"
        },
        "id": "wKOEL9CfeWLq",
        "outputId": "76fb00a4-7833-40a7-a13c-3c288cd17e0e"
      },
      "execution_count": null,
      "outputs": [
        {
          "output_type": "stream",
          "name": "stdout",
          "text": [
            "Enter the year: 2000\n",
            "2000 is a leap year\n"
          ]
        }
      ]
    }
  ]
}